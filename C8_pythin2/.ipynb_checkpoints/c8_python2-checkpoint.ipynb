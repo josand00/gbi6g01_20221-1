{
 "cells": [
  {
   "cell_type": "markdown",
   "id": "2cb1736c",
   "metadata": {},
   "source": [
    "# GBI_Bioinformática2022\n",
    "## Unidad 2 Python \n",
    "### Tema 2 - Condiciones y Bucles\n",
    "Las condicionales son:\n",
    "- conficional if simple\n",
    "- Condicional if else\n",
    "- Condicional if anidado ```if if if```\n",
    "Entre 3 comillas simples inclinadas se resalta\n",
    "\n",
    "Los bucles son:\n",
    "- Bucle While\n",
    "- Bucle for\n",
    "\n",
    "El bucle **while** es una estructura de control que se ejecuta mientras una *condición se cumple*"
   ]
  },
  {
   "cell_type": "code",
   "execution_count": 1,
   "id": "592e84f7",
   "metadata": {},
   "outputs": [],
   "source": [
    "seq=\"ATCTCGTATGCTA\""
   ]
  },
  {
   "cell_type": "code",
   "execution_count": 4,
   "id": "080bd139",
   "metadata": {
    "scrolled": true
   },
   "outputs": [
    {
     "data": {
      "text/plain": [
       "'ATCTCGTATGCTA'"
      ]
     },
     "execution_count": 4,
     "metadata": {},
     "output_type": "execute_result"
    }
   ],
   "source": [
    "seq"
   ]
  },
  {
   "cell_type": "code",
   "execution_count": null,
   "id": "0eb3b01b",
   "metadata": {},
   "outputs": [],
   "source": []
  },
  {
   "cell_type": "code",
   "execution_count": null,
   "id": "72407455",
   "metadata": {},
   "outputs": [],
   "source": []
  }
 ],
 "metadata": {
  "kernelspec": {
   "display_name": "Python 3 (ipykernel)",
   "language": "python",
   "name": "python3"
  },
  "language_info": {
   "codemirror_mode": {
    "name": "ipython",
    "version": 3
   },
   "file_extension": ".py",
   "mimetype": "text/x-python",
   "name": "python",
   "nbconvert_exporter": "python",
   "pygments_lexer": "ipython3",
   "version": "3.9.12"
  }
 },
 "nbformat": 4,
 "nbformat_minor": 5
}
