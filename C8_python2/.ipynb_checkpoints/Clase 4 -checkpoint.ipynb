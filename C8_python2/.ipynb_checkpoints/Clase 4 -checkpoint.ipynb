{
 "cells": [
  {
   "cell_type": "code",
   "execution_count": null,
   "id": "168d5d7d",
   "metadata": {},
   "outputs": [],
   "source": [
    "# Evalue solamente con ACC, LCML, KIRP\n",
    "\n",
    "cancer_type = input(\"Tipo cancer:\")\n",
    "estado = input(\"Estado:\")\n",
    "if cancer_type == \"ACC\":\n",
    "    print(\"Adrenocortical carcinoma\")\n",
    "    if estado == \"Inicial\":\n",
    "        print(\"Urgente biopsia y quimio\")\n",
    "    if estado == \"Intermedio\":\n",
    "        print(\"Urgente quimio tipo 2\")\n",
    "    else:\n",
    "        print(\"Comunicar al paciente que su estado es avanzado\")\n",
    "elif cancer_type == \"LCML\":\n",
    "    print(\"Chronic Myelogenous Leukemia\")\n",
    "elif cancer_type == \"KIRP\": \n",
    "    print(\"Kidney renal papillary cell carcinoma\")\n",
    "else: \n",
    "    print(\"Other cancer type\")\n",
    "    "
   ]
  },
  {
   "cell_type": "code",
   "execution_count": null,
   "id": "50b9aa43",
   "metadata": {},
   "outputs": [],
   "source": [
    "# Evalue solamente con ACC, LCML, KIRP\n",
    "\n",
    "cancer_type = input(\"Tipo cancer:\")\n",
    "estado = input(\"Estado:\")\n",
    "bodega = imput(\"Medicamento:\")\n",
    "if cancer_type == \"ACC\":\n",
    "    print(\"Adrenocortical carcinoma\")\n",
    "    if estado == \"Inicial\":\n",
    "        print(\"Urgente biopsia y quimio\")\n",
    "    if estado == \"Intermedio\":\n",
    "        print(\"Urgente quimio tipo 2\")\n",
    "        if medicamento == \"Disponible\":\n",
    "            print(\"Retirar en farmacia\")\n",
    "        else: \n",
    "            print(\"Ir a comprar\")\n",
    "    else:\n",
    "        print(\"Comunicar al paciente que su estado es avanzado\")\n",
    "elif cancer_type == \"LCML\":\n",
    "    print(\"Chronic Myelogenous Leukemia\")\n",
    "elif cancer_type == \"KIRP\": \n",
    "    print(\"Kidney renal papillary cell carcinoma\")\n",
    "else: \n",
    "    print(\"Other cancer type\")"
   ]
  },
  {
   "cell_type": "code",
   "execution_count": null,
   "id": "53ae9837",
   "metadata": {},
   "outputs": [],
   "source": []
  }
 ],
 "metadata": {
  "kernelspec": {
   "display_name": "Python 3 (ipykernel)",
   "language": "python",
   "name": "python3"
  },
  "language_info": {
   "codemirror_mode": {
    "name": "ipython",
    "version": 3
   },
   "file_extension": ".py",
   "mimetype": "text/x-python",
   "name": "python",
   "nbconvert_exporter": "python",
   "pygments_lexer": "ipython3",
   "version": "3.9.12"
  }
 },
 "nbformat": 4,
 "nbformat_minor": 5
}
