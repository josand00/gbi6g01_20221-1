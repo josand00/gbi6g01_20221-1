{
 "cells": [
  {
   "cell_type": "code",
   "execution_count": 14,
   "id": "54afbe31",
   "metadata": {},
   "outputs": [],
   "source": [
    "dict1 = {\"nombre\": \"Luis\", \"apellido\": \"Sánchez\",\n",
    "    \"carrera\": \"Biotecnología\", \"pref_topic\": \"NGS\"}"
   ]
  },
  {
   "cell_type": "code",
   "execution_count": 2,
   "id": "7655465b",
   "metadata": {},
   "outputs": [
    {
     "name": "stdout",
     "output_type": "stream",
     "text": [
      "Variable   Type    Data/Info\n",
      "----------------------------\n",
      "dict1      dict    n=4\n"
     ]
    }
   ],
   "source": [
    "whos  #enlistar variables guardadas\n"
   ]
  },
  {
   "cell_type": "code",
   "execution_count": 4,
   "id": "f2af5f97",
   "metadata": {},
   "outputs": [
    {
     "data": {
      "text/plain": [
       "'Biotecnología'"
      ]
     },
     "execution_count": 4,
     "metadata": {},
     "output_type": "execute_result"
    }
   ],
   "source": [
    "dict1[\"carrera\"]"
   ]
  },
  {
   "cell_type": "code",
   "execution_count": 17,
   "id": "e16eedf0",
   "metadata": {},
   "outputs": [
    {
     "data": {
      "text/plain": [
       "{'nombre': 'Angiely',\n",
       " 'apellido': 'Sánchez',\n",
       " 'carrera': 'Biotecnología',\n",
       " 'pref_topic': 'NGS'}"
      ]
     },
     "execution_count": 17,
     "metadata": {},
     "output_type": "execute_result"
    }
   ],
   "source": [
    "dict1[\"nombre\"]=\"Angiely\"    #para cambiar o reemplazar un término\n",
    "dict1"
   ]
  },
  {
   "cell_type": "code",
   "execution_count": 3,
   "id": "4b35a7b7",
   "metadata": {
    "scrolled": true
   },
   "outputs": [
    {
     "data": {
      "text/plain": [
       "{'nombre': 'Luis',\n",
       " 'apellido': 'Sánchez',\n",
       " 'carrera': 'Biotecnología',\n",
       " 'pref_topic': 'NGS'}"
      ]
     },
     "execution_count": 3,
     "metadata": {},
     "output_type": "execute_result"
    }
   ],
   "source": [
    "dict2 = dict([(\"nombre\", \"Luis\"), (\"apellido\", \"Sánchez\"), \n",
    "              (\"carrera\", \"Biotecnología\"), (\"pref_topic\", \"NGS\")])\n",
    "dict2"
   ]
  },
  {
   "cell_type": "code",
   "execution_count": 6,
   "id": "ff37e86d",
   "metadata": {},
   "outputs": [],
   "source": [
    "dict3 = dict(nombre=\"Luis\", apellido=\"Sánchez\", carrera=\"Biotecnología\", \n",
    "             pref_topic = \"NGS\", edad = 31, Ecuatoriano=True )"
   ]
  },
  {
   "cell_type": "code",
   "execution_count": 12,
   "id": "a510225a",
   "metadata": {},
   "outputs": [
    {
     "data": {
      "text/plain": [
       "{'Homo sapiens': 3200.0,\n",
       " 'Escherichia coli': 17.2,\n",
       " 'Arabidopsis thaliana': 157.0,\n",
       " 'Drosophila melanogaster': 80}"
      ]
     },
     "execution_count": 12,
     "metadata": {},
     "output_type": "execute_result"
    }
   ],
   "source": [
    "tamano_genoma = {\"Homo sapiens\": 3200.0, \n",
    "                 \"Escherichia coli\": 17.2, # tamaño real 4.6 Mbp\n",
    "                 \"Arabidopsis thaliana\": 157.0, \n",
    "                 \"Drosophila melanogaster\": 80  # el tamaño real es de 130 Mbp\n",
    "                }\n",
    "tamano_genoma"
   ]
  },
  {
   "cell_type": "code",
   "execution_count": 13,
   "id": "6f79ec77",
   "metadata": {},
   "outputs": [
    {
     "data": {
      "text/plain": [
       "{'Homo sapiens': 3200.0,\n",
       " 'Escherichia coli': 4.6,\n",
       " 'Arabidopsis thaliana': 157.0,\n",
       " 'Drosophila melanogaster': 130}"
      ]
     },
     "execution_count": 13,
     "metadata": {},
     "output_type": "execute_result"
    }
   ],
   "source": [
    "tamano_genoma[\"Escherichia coli\"] = 4.6 #actualizar valor por cambio\n",
    "tamano_genoma[\"Drosophila melanogaster\"] += 50 #actualizar valor/ informacion con operación\n",
    "tamano_genoma"
   ]
  },
  {
   "cell_type": "code",
   "execution_count": 18,
   "id": "f9872a19",
   "metadata": {},
   "outputs": [
    {
     "data": {
      "text/plain": [
       "{'personal': {'nombre': 'Ashley', 'apellido': 'Genomeson'},\n",
       " 'academico': {'carrera': 'Biotecnología', 'semestre': 6},\n",
       " 'logros': {'primaria': 'Estrellita', 'Concurso': 'Bicecampeon'}}"
      ]
     },
     "execution_count": 18,
     "metadata": {},
     "output_type": "execute_result"
    }
   ],
   "source": [
    "d = {\"personal\": {\"nombre\": \"Ashley\",\"apellido\": \"Genomeson\"},\n",
    "    \"academico\": {\"carrera\": \"Biotecnología\",\"semestre\": 6 }, \n",
    "    \"logros\": {\"primaria\": \"Estrellita\", \"Concurso\": \"Bicecampeon\"}}\n",
    "d"
   ]
  },
  {
   "cell_type": "code",
   "execution_count": 20,
   "id": "66fe28f5",
   "metadata": {},
   "outputs": [
    {
     "name": "stdout",
     "output_type": "stream",
     "text": [
      "{'nombre': 'Ashley', 'apellido': 'Genomeson'}\n",
      "Ashley\n"
     ]
    }
   ],
   "source": [
    "print(d[\"personal\"])       # para saber solo lo personal\n",
    "print(d[\"personal\"][\"nombre\"])      # para saber solo el nombre dentro de personal"
   ]
  },
  {
   "cell_type": "code",
   "execution_count": 24,
   "id": "f86533bf",
   "metadata": {
    "scrolled": true
   },
   "outputs": [
    {
     "data": {
      "text/plain": [
       "{'alumnos': [{'nombre': 'Federico', 'apellido': 'Palma'},\n",
       "  {'nombre': 'Sebastian', 'apellido': 'Ruiz'}],\n",
       " 'carrera': [{'major': 'Biotecnología', 'minor': 'Bioinformática'},\n",
       "  {'major': 'Biotecnología', 'minor': 'Microbiología'}],\n",
       " 'graduación': '2022I, 2021II'}"
      ]
     },
     "execution_count": 24,
     "metadata": {},
     "output_type": "execute_result"
    }
   ],
   "source": [
    "# Más complejo\n",
    "\n",
    "d2 = {\n",
    "    \"alumnos\": [\n",
    "        {\"nombre\": \"Federico\", \"apellido\": \"Palma\"},\n",
    "        {\"nombre\": \"Sebastian\", \"apellido\": \"Ruiz\"},\n",
    "    ],\n",
    "    \"carrera\": [\n",
    "        {\"major\": \"Biotecnología\", \"minor\":\"Bioinformática\"},\n",
    "        {\"major\": \"Biotecnología\", \"minor\":\"Microbiología\"}\n",
    "    ],\n",
    "    \"graduación\": \"2022I, 2021II\",\n",
    "}\n",
    "d2"
   ]
  },
  {
   "cell_type": "code",
   "execution_count": 30,
   "id": "c11af812",
   "metadata": {
    "scrolled": true
   },
   "outputs": [
    {
     "name": "stdout",
     "output_type": "stream",
     "text": [
      "Bioinformática\n"
     ]
    }
   ],
   "source": [
    "print(d2[\"carrera\"][1][\"minor\"])   # elemento 1 porqeu se cuenta desde 0, y el elemento 1 seria\n",
    "#{\"major\": \"Biotecnología\", \"minor\":\"Microbiología\""
   ]
  },
  {
   "cell_type": "markdown",
   "id": "a3051fc3",
   "metadata": {},
   "source": [
    "# Funciones:\n",
    "* Para copiar ```.copy()```\n",
    "* Para limpiar ```.clear()```\n",
    "* Para obtener ```.get()``` para obtener dato con el ```key```, sino se devuelve un valor predefinido\n",
    "* Para obtener todas las claves ```.key()```*Para obtener todos los valores ```.values```\n",
    "* Para obtener actualizaciones con nuevas claves:valores ```.update()```\n"
   ]
  },
  {
   "cell_type": "code",
   "execution_count": null,
   "id": "c373a64f",
   "metadata": {},
   "outputs": [],
   "source": []
  }
 ],
 "metadata": {
  "kernelspec": {
   "display_name": "Python 3 (ipykernel)",
   "language": "python",
   "name": "python3"
  },
  "language_info": {
   "codemirror_mode": {
    "name": "ipython",
    "version": 3
   },
   "file_extension": ".py",
   "mimetype": "text/x-python",
   "name": "python",
   "nbconvert_exporter": "python",
   "pygments_lexer": "ipython3",
   "version": "3.9.12"
  }
 },
 "nbformat": 4,
 "nbformat_minor": 5
}
