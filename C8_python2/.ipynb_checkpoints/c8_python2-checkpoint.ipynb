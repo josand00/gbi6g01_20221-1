{
 "cells": [
  {
   "cell_type": "markdown",
   "id": "03b99374",
   "metadata": {},
   "source": [
    "<img src=\"https://www.ikiam.edu.ec/img/logo-ikiam-grey.png\" width=200 height=150 />\n",
    "\n",
    "## <center> <h1 style=\"color:red\"> GBI_Bioinformática2022 </h1> </center>\n",
    "## <center> <h2 style=\"color:blue; background-color:powderblue;\"> Unidad 2 Python</h2> </center>\n",
    "### Tema 2 - Condiciones y Bucles\n",
    "    \n",
    "Las condicionales son:\n",
    "- conficional if simple\n",
    "- Condicional if else\n",
    "- Condicional if anidado ```if if if```\n",
    "Entre 3 comillas simples inclinadas se resalta\n",
    "\n",
    "Los bucles son:\n",
    "- Bucle While\n",
    "- Bucle for\n",
    "\n",
    "El bucle **while** es una estructura de control que se ejecuta mientras una *condición se cumple*\n",
    "\n",
    "acontinuacion colocamos las variables x,y,z\n",
    "<table>\n",
    "  <tr>\n",
    "    <th>Nombres</th>\n",
    "    <th>Apellidos</th>\n",
    "    <th>Yolo</th>\n",
    "  </tr>\n",
    "  <tr>\n",
    "    <td>Angiely</td>\n",
    "    <td>Camacho</td>\n",
    "    <td>Yeih</td>\n",
    "  </tr>\n",
    "  <tr>\n",
    "    <td>Camacho</td>\n",
    "    <td>Aguilar</td>\n",
    "    <td>Valki</td>\n",
    "  </tr>\n",
    "</table>"
   ]
  },
  {
   "cell_type": "code",
   "execution_count": 1,
   "id": "e7a6b268",
   "metadata": {},
   "outputs": [],
   "source": [
    "seq=\"ATCTCGTATGCTA\""
   ]
  },
  {
   "cell_type": "code",
   "execution_count": 4,
   "id": "8bb80d6a",
   "metadata": {
    "scrolled": true
   },
   "outputs": [
    {
     "data": {
      "text/plain": [
       "'ATCTCGTATGCTA'"
      ]
     },
     "execution_count": 4,
     "metadata": {},
     "output_type": "execute_result"
    }
   ],
   "source": [
    "seq"
   ]
  },
  {
   "cell_type": "code",
   "execution_count": 3,
   "id": "cce39316",
   "metadata": {},
   "outputs": [
    {
     "name": "stdout",
     "output_type": "stream",
     "text": [
      "Hola Mundo\n",
      "z es: -9\n"
     ]
    }
   ],
   "source": [
    "print(\"Hola Mundo\")\n",
    "x = 3\n",
    "y = 5\n",
    "z = 2*x -3*y\n",
    "print(\"z es:\", z)"
   ]
  },
  {
   "cell_type": "markdown",
   "id": "c72237fd",
   "metadata": {},
   "source": [
    "La función ```print``` imprime en la pantalla el contenido delimitado por ()\n",
    "\n",
    "En python todo se ejecuta linea por linea "
   ]
  },
  {
   "cell_type": "code",
   "execution_count": null,
   "id": "d70def33",
   "metadata": {},
   "outputs": [],
   "source": []
  },
  {
   "cell_type": "code",
   "execution_count": 15,
   "id": "a3427f71",
   "metadata": {},
   "outputs": [
    {
     "name": "stdout",
     "output_type": "stream",
     "text": [
      "Angiely\n",
      "<class 'list'>\n"
     ]
    },
    {
     "data": {
      "text/plain": [
       "['2', 'Angiely', 'valki']"
      ]
     },
     "execution_count": 15,
     "metadata": {},
     "output_type": "execute_result"
    }
   ],
   "source": [
    "lista1 = list([\"b\",\"a\",\"2\",\"Angiely\",\"valki\",[2,3,4]])\n",
    "lista2= []\n",
    "print(lista1 [3])\n",
    "print(type(lista2))\n",
    "#[3]elemento 3\n",
    "#sin el type da como resultado lo qeu contiene la lista\n",
    "#con el type da el nombre de la lista\n",
    "#ejem\n",
    "genes = [[\"gen1\",2.3, \"higado\"],[\"gen1\",1.3, \"riñon\"],[\"gen2\",2.5, \"higado\"]]\n",
    "genes[0]\n",
    "len(lista1)\n",
    "lista1[2:5]\n",
    "#empieza a contar desde el 0, y devuelve hasta un numero antes, ejm desde el 2 hasta el 4, si quisiera el elemento 5 le coloco 5+1\n"
   ]
  },
  {
   "cell_type": "code",
   "execution_count": 29,
   "id": "50bc7c50",
   "metadata": {},
   "outputs": [
    {
     "name": "stdout",
     "output_type": "stream",
     "text": [
      "['ATCG', 'ACGT', 'CGATCGTAATCG', 'ACGT', 'CGATCGTAATCG', 'ACGT', 'CGATCGTAATCG', 'ACGT', 'CGATCGTAATCG', 'ACGT', 'CGATCGTAATCG', 'ACGT', 'CGATCGTA'] 13\n"
     ]
    },
    {
     "data": {
      "text/plain": [
       "'ATCGCGATCGTAATCGCGATCGTAATCG'"
      ]
     },
     "execution_count": 29,
     "metadata": {},
     "output_type": "execute_result"
    }
   ],
   "source": [
    "texto = \"ATCGNNACGTNNCGATCGTAATCGNNACGTNNCGATCGTAATCGNNACGTNNCGATCGTAATCGNNACGTNNCGATCGTAATCGNNACGTNNCGATCGTAATCGNNACGTNNCGATCGTA\"\n",
    "start = 2\n",
    "end = 8\n",
    "exones = texto.split(\"NN\")\n",
    "gene_funcional = \"\".join(exones[start: end+1])\n",
    "gen2 = \"\".join([exones[0], exones[8],  exones[4]])\n",
    "print(exones, len(exones))\n",
    "gen2"
   ]
  },
  {
   "cell_type": "code",
   "execution_count": 43,
   "id": "beea5bdd",
   "metadata": {},
   "outputs": [],
   "source": [
    "lista1 = [\"a\", \"b\", \"c\", \"d\", \"e\", \"f\", \"g\"]\n",
    "lista2 = [2, lista1, 13.5]\n",
    "lista3 = [3, lista2, \"dna\", \"proteina\", True]"
   ]
  },
  {
   "cell_type": "code",
   "execution_count": 45,
   "id": "d0296d2a",
   "metadata": {},
   "outputs": [
    {
     "name": "stdout",
     "output_type": "stream",
     "text": [
      "3\n",
      "['c', 'd', 'e']\n",
      "7\n",
      "['a', 'b', 'c', 'd', 'e', 'f', 'g']\n",
      "['f', 'g']\n"
     ]
    }
   ],
   "source": [
    "print(len(lista3[1]))\n",
    "print(lista3[1][1][2:5])\n",
    "#seleciono el elemento 1 de la lista 3 , que es la lista 2, y seleciono de la lista 2 el lemento 1\n",
    "#que es la lista 1, y de la lista 1 selescciono del 2 al 5 elemento\n",
    "print(len(lista1))\n",
    "print(lista1[:])\n",
    "#se imprimen todos los elementos\n",
    "print(lista1[5:])\n",
    "#los lementos de la derecha"
   ]
  },
  {
   "cell_type": "code",
   "execution_count": 46,
   "id": "8bda5a81",
   "metadata": {},
   "outputs": [
    {
     "data": {
      "text/plain": [
       "['a', 'sd', 'c', 'd', 'e', 'f', 'g']"
      ]
     },
     "execution_count": 46,
     "metadata": {},
     "output_type": "execute_result"
    }
   ],
   "source": [
    "# se puede actualizar el contenido de una lista utilizando el índice\n",
    "lista1[1] = \"sd\"\n",
    "lista1"
   ]
  },
  {
   "cell_type": "code",
   "execution_count": 49,
   "id": "4b4c9bed",
   "metadata": {},
   "outputs": [
    {
     "name": "stdout",
     "output_type": "stream",
     "text": [
      "['a', 'c', 'd', 'e', 'f', 'g', 'sd']\n",
      "['sd', 'g', 'f', 'e', 'd', 'c', 'a']\n"
     ]
    }
   ],
   "source": [
    "lista1.sort()\n",
    "print(lista1)\n",
    "lista1.reverse()\n",
    "print(lista1)\n"
   ]
  },
  {
   "cell_type": "code",
   "execution_count": 51,
   "id": "8f2dddf4",
   "metadata": {},
   "outputs": [
    {
     "name": "stdout",
     "output_type": "stream",
     "text": [
      "[]\n",
      "['a', ['a', 'b', 'c']]\n"
     ]
    }
   ],
   "source": [
    "#mediante append agregar nuevo elemento\n",
    "listav=[]\n",
    "print(listav)\n",
    "listav.append(\"a\")\n",
    "listav.append([\"a\", \"b\", \"c\"])\n",
    "print(listav)"
   ]
  },
  {
   "cell_type": "code",
   "execution_count": 55,
   "id": "270acbe7",
   "metadata": {},
   "outputs": [
    {
     "name": "stdout",
     "output_type": "stream",
     "text": [
      "['reino', 'Filum', 'orden', 'familia']\n",
      "despues de append: ['reino', 'Filum', 'orden', 'familia', ['Genero', 'Especie', 'Variedad']]\n",
      "despues de insert: ['reino', 'Filum', 'orden', 'Suborden', 'familia', ['Genero', 'Especie', 'Variedad']]\n",
      "despues de extend: ['reino', 'Filum', 'orden', 'Suborden', 'familia', ['Genero', 'Especie', 'Variedad'], 'subespecie', 'Variedad', 'Tipo']\n"
     ]
    }
   ],
   "source": [
    "lista =([\"reino\", \"Filum\", \"orden\", \"familia\"])\n",
    "print(lista)\n",
    "#insert crear un espacio, moverte los elementos\n",
    "lista.append([\"Genero\", \"Especie\", \"Variedad\"])\n",
    "print(\"despues de append:\", lista)\n",
    "\n",
    "lista.insert(3, \"Suborden\")\n",
    "print(\"despues de insert:\", lista)\n",
    "#extend se desentlista y los toma como elementos y se los coloca como elementos unicos no en parentesis o como lemento añadido\n",
    "lista.extend([\"subespecie\", \"Variedad\", \"Tipo\"])\n",
    "print(\"despues de extend:\", lista)"
   ]
  }
 ],
 "metadata": {
  "kernelspec": {
   "display_name": "Python 3 (ipykernel)",
   "language": "python",
   "name": "python3"
  },
  "language_info": {
   "codemirror_mode": {
    "name": "ipython",
    "version": 3
   },
   "file_extension": ".py",
   "mimetype": "text/x-python",
   "name": "python",
   "nbconvert_exporter": "python",
   "pygments_lexer": "ipython3",
   "version": "3.9.12"
  }
 },
 "nbformat": 4,
 "nbformat_minor": 5
}
