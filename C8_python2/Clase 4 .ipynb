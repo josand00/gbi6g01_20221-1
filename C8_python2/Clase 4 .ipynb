{
 "cells": [
  {
   "cell_type": "code",
   "execution_count": 1,
   "id": "168d5d7d",
   "metadata": {},
   "outputs": [
    {
     "name": "stdout",
     "output_type": "stream",
     "text": [
      "Tipo cancer:ACC\n",
      "Estado:Intermedio\n",
      "Adrenocortical carcinoma\n",
      "Urgente quimio tipo 2\n"
     ]
    }
   ],
   "source": [
    "# Evalue solamente con ACC, LCML, KIRP\n",
    "\n",
    "cancer_type = input(\"Tipo cancer:\")\n",
    "estado = input(\"Estado:\")\n",
    "if cancer_type == \"ACC\":\n",
    "    print(\"Adrenocortical carcinoma\")\n",
    "    if estado == \"Inicial\":\n",
    "        print(\"Urgente biopsia y quimio\")\n",
    "    if estado == \"Intermedio\":\n",
    "        print(\"Urgente quimio tipo 2\")\n",
    "    else:\n",
    "        print(\"Comunicar al paciente que su estado es avanzado\")\n",
    "elif cancer_type == \"LCML\":\n",
    "    print(\"Chronic Myelogenous Leukemia\")\n",
    "elif cancer_type == \"KIRP\": \n",
    "    print(\"Kidney renal papillary cell carcinoma\")\n",
    "else: \n",
    "    print(\"Other cancer type\")\n",
    "    "
   ]
  },
  {
   "cell_type": "code",
   "execution_count": 3,
   "id": "50b9aa43",
   "metadata": {},
   "outputs": [
    {
     "name": "stdout",
     "output_type": "stream",
     "text": [
      "Tipo cancer:ACC\n",
      "Estado:intermedio\n",
      "Medicamento:disponible\n",
      "Adrenocortical carcinoma\n",
      "Comunicar al paciente que su estado es avanzado\n"
     ]
    }
   ],
   "source": [
    "# Evalue solamente con ACC, LCML, KIRP\n",
    "\n",
    "cancer_type = input(\"Tipo cancer:\")\n",
    "estado = input(\"Estado:\")\n",
    "bodega = input(\"Medicamento:\")\n",
    "if cancer_type == \"ACC\":\n",
    "    print(\"Adrenocortical carcinoma\")\n",
    "    if estado == \"Inicial\":\n",
    "        print(\"Urgente biopsia y quimio\")\n",
    "    if estado == \"Intermedio\":\n",
    "        print(\"Urgente quimio tipo 2\")\n",
    "        if medicamento == \"Disponible\":\n",
    "            print(\"Retirar en farmacia\")\n",
    "        else: \n",
    "            print(\"Ir a comprar\")\n",
    "    else:\n",
    "        print(\"Comunicar al paciente que su estado es avanzado\")\n",
    "elif cancer_type == \"LCML\":\n",
    "    print(\"Chronic Myelogenous Leukemia\")\n",
    "elif cancer_type == \"KIRP\": \n",
    "    print(\"Kidney renal papillary cell carcinoma\")\n",
    "else: \n",
    "    print(\"Other cancer type\")"
   ]
  },
  {
   "cell_type": "code",
   "execution_count": 6,
   "id": "53ae9837",
   "metadata": {},
   "outputs": [
    {
     "name": "stdout",
     "output_type": "stream",
     "text": [
      "Dividendo: 15\n",
      "Divisor1: 5\n",
      "Divisor2: 3\n",
      "15.0 Divisible para 5\n"
     ]
    }
   ],
   "source": [
    "x = int(input(\"Dividendo: \"))\n",
    "y1 = int(input(\"Divisor1: \"))\n",
    "y2 = float(input(\"Divisor2: \"))\n",
    "z = x / y2\n",
    "\n",
    "if x % y1 == 0:\n",
    "    print(\"%1.1f Divisible para %1d\" %(x, y1))\n",
    "elif x % y2 == 0:\n",
    "    print(\"%1.2f Divisible para %1d\" %(x, y2))\n",
    "else:\n",
    "    print(\"%1d no es divisible para %1d, la división resulta en %0.3f\" % (x, y2, z))"
   ]
  },
  {
   "cell_type": "code",
   "execution_count": 13,
   "id": "263abec2",
   "metadata": {},
   "outputs": [
    {
     "name": "stdout",
     "output_type": "stream",
     "text": [
      "Biomolécula: DNA\n",
      "Nivel Expresion:5\n",
      "En el ADN, los nuclétidos son C:Citosina, A: Adenina, G: Guanina, T: Timina, 5\n"
     ]
    }
   ],
   "source": [
    "x = input(\"Biomolécula: \" )\n",
    "t = int(input(\"Nivel Expresion:\"))\n",
    "nuc = [\"A: Adenina\", \"T: Timina\", \"G: Guanina\", \"C:Citosina\"]\n",
    "if x == \"DNA\": \n",
    "    print('En el ADN, los nuclétidos son {3}, {0}, {2}, {1}, %1d'.format(nuc[0], nuc[1], nuc[2], nuc[3]) %(t))\n",
    "elif x == \"RNA\": \n",
    "    print('En el ARN, los nuclétidos son {2}, {otro}, {1}, {0}'.format(\"A: Adenina\", \"G: Guanina\", \"C:Citosina\", otro=\"Uracilo\"))\n",
    "else: \n",
    "    print(\"Es una biomolécula diferente al ADN o ARN\")"
   ]
  },
  {
   "cell_type": "code",
   "execution_count": 14,
   "id": "2a9a3838",
   "metadata": {},
   "outputs": [
    {
     "name": "stdout",
     "output_type": "stream",
     "text": [
      "Biomolécula: ADN\n",
      "Nivel Expresion:5\n",
      "Es una biomolécula diferente al ADN o ARN\n"
     ]
    }
   ],
   "source": [
    "x = input(\"Biomolécula: \" )\n",
    "t = int(input(\"Nivel Expresion:\"))\n",
    "nuc = [\"A: Adenina\", \"T: Timina\", \"G: Guanina\", \"C:Citosina\"]\n",
    "if x == \"DNA\": \n",
    "    print('En el ADN, los nuclétidos son {0}, {1}, {2}, {3}'.format(nuc[0], nuc[1], nuc[2], nuc[3]) )\n",
    "elif x == \"RNA\": \n",
    "    print('En el ARN, los nuclétidos son {0}, {otro}, {1}, {2}, con un nivel de expresion de %1d copias'.format(\"A: Adenina\", \"G: Guanina\", \"C:Citosina\", otro=\"Uracilo\") %(t))\n",
    "else: \n",
    "    print(\"Es una biomolécula diferente al ADN o ARN\")"
   ]
  },
  {
   "cell_type": "code",
   "execution_count": 18,
   "id": "b063900b",
   "metadata": {},
   "outputs": [
    {
     "name": "stdout",
     "output_type": "stream",
     "text": [
      "Hola que tal GBI6 :tiene 18 caracteres\n",
      "la clase inicia a las :tiene 22 caracteres\n",
      "17:tiene  2 caracteres\n",
      "termina a las :tiene 14 caracteres\n",
      "19:tiene  2 caracteres\n",
      "True:tiene  4 caracteres\n",
      "('a', 'b'):tiene 10 caracteres\n",
      "\n",
      "****\n",
      "Hemos terminado de procesar\n"
     ]
    }
   ],
   "source": [
    "# Imprimir elemento por elemento\n",
    "# %2d --> ahi va un numero, la d significa entero \n",
    "# {0} --> es los elemento de lista {0}\n",
    "# segira {1}\n",
    "# salto de linea \\n****\\n\n",
    "\n",
    "lista = [\"Hola que tal GBI6 \", \"la clase inicia a las \", 17, \n",
    "         \"termina a las \", 19, True, (\"a\", \"b\")]\n",
    "#otro = \"Angiely\" \n",
    "for elementos in lista:\n",
    "    caract = len(str(elementos))\n",
    "    print(\"{0}:tiene %2d caracteres\".format(elementos)%(caract))\n",
    "else:\n",
    "    print(\"\\n****\\nHemos terminado de procesar\")"
   ]
  },
  {
   "cell_type": "code",
   "execution_count": 19,
   "id": "b89cd134",
   "metadata": {},
   "outputs": [
    {
     "name": "stdout",
     "output_type": "stream",
     "text": [
      "range(0, 7)\n",
      "Hola que tal GBI6 \n",
      "la clase inicia a las \n",
      "17\n",
      "termina a las \n",
      "19\n",
      "True\n",
      "('a', 'b')\n"
     ]
    }
   ],
   "source": [
    "print(range(len(lista)))\n",
    "for i in range(len(lista)): # i: indice de posicion \n",
    "    print(lista[i])"
   ]
  },
  {
   "cell_type": "code",
   "execution_count": 22,
   "id": "91d547a9",
   "metadata": {},
   "outputs": [
    {
     "name": "stdout",
     "output_type": "stream",
     "text": [
      "H\n",
      "o\n",
      "l\n",
      "a\n",
      " \n",
      "G\n",
      "B\n",
      "I\n",
      "6\n",
      "\n",
      "******\n",
      "Aquí termina el bucle\n"
     ]
    }
   ],
   "source": [
    "# imprimir elementos de un texto largo \n",
    "saludo =\"Hola GBI6\"\n",
    "\n",
    "for a in saludo:\n",
    "    print(a)\n",
    "else:\n",
    "    print(\"\\n******\\nAquí termina el bucle\")"
   ]
  },
  {
   "cell_type": "code",
   "execution_count": 23,
   "id": "c12be6c3",
   "metadata": {},
   "outputs": [
    {
     "name": "stdout",
     "output_type": "stream",
     "text": [
      "ATCCGAGTAG\n",
      "ATCGAGCGATCATT\n",
      "AATCGCGCGGATATA\n",
      "['ATCCGAGTAGATCCGAGTAG', 'ATCGAGCGATCATTATCGAGCGATCATT', 'AATCGCGCGGATATAAATCGCGCGGATATA']\n"
     ]
    }
   ],
   "source": [
    "# Guardar luego de procesar\n",
    "\n",
    "seqs = [\"ATCcgagtaG\", \"aTcgagcgatcatT\", \"aatcgcgcggatata\"]\n",
    "\n",
    "nuc2upper = []\n",
    "for seq in seqs:\n",
    "    short_seq = seq.upper()\n",
    "    print(short_seq)\n",
    "    nuc2upper.append(short_seq*2)\n",
    "\n",
    "print(nuc2upper)"
   ]
  },
  {
   "cell_type": "code",
   "execution_count": 24,
   "id": "45f3ddee",
   "metadata": {},
   "outputs": [
    {
     "name": "stdout",
     "output_type": "stream",
     "text": [
      "Secuencia ATCCGAGTAG tiene    50 por ciento de GC\n",
      "Secuencia ATCGAGCGATCATT tiene    42 por ciento de GC\n",
      "Secuencia AATCGCGCGGATATA tiene    46 por ciento de GC\n",
      "[['ATCCGAGTAGATCCGAGTAG', 50.0], ['ATCGAGCGATCATTATCGAGCGATCATT', 42.857142857142854], ['AATCGCGCGGATATAAATCGCGCGGATATA', 46.666666666666664]]\n"
     ]
    }
   ],
   "source": [
    "# Guardar luego de procesar\n",
    "\n",
    "seqs = [\"ATCcgagtaG\", \"aTcgagcgatcatT\", \"aatcgcgcggatata\"]\n",
    "\n",
    "nuc2upper = []\n",
    "for seq in seqs:\n",
    "    short_seq = seq.upper()\n",
    "    gc = 100*(short_seq.count(\"C\") + short_seq.count(\"G\"))/len(short_seq)\n",
    "    print(\"Secuencia {0} tiene %5d por ciento de GC\".format(short_seq) %(gc))\n",
    "    nuc2upper.append([short_seq*2, gc])\n",
    "\n",
    "print(nuc2upper)"
   ]
  },
  {
   "cell_type": "code",
   "execution_count": 25,
   "id": "3e96d786",
   "metadata": {},
   "outputs": [
    {
     "name": "stdout",
     "output_type": "stream",
     "text": [
      "['LAML', 'ACC', 'BLCA', 'LGG', 'CHOL', 'COAD', 'CNTL', 'ESCA', 'GBM', 'HNSC']\n",
      "['Acute Myeloid Leukemia', 'Adrenocortical carcinoma', 'Bladder Urothelial Carcinoma', 'Brain Lower Grade Glioma', 'Cholangiocarcinoma', 'Colon adenocarcinoma', 'Controls', 'Esophageal carcinoma', 'Glioblastoma multiforme', 'Head and Neck squamous cell carcinoma']\n"
     ]
    }
   ],
   "source": [
    "cancers = {\n",
    "    \"LAML\" : \"Acute Myeloid Leukemia\",\n",
    "    \"ACC\" : \"Adrenocortical carcinoma\",\n",
    "    \"BLCA\" : \"Bladder Urothelial Carcinoma\",\n",
    "    \"LGG\" : \"Brain Lower Grade Glioma\",\n",
    "    \"CHOL\" : \"Cholangiocarcinoma\",\n",
    "    \"COAD\" : \"Colon adenocarcinoma\",\n",
    "    \"CNTL\" : \"Controls\",\n",
    "    \"ESCA\" : \"Esophageal carcinoma\",\n",
    "    \"GBM\" : \"Glioblastoma multiforme\",\n",
    "    \"HNSC\" : \"Head and Neck squamous cell carcinoma\",\n",
    "}\n",
    "abrev = []\n",
    "completo = []\n",
    "\n",
    "for (key, val) in cancers.items():\n",
    "    abrev.append(key)\n",
    "    completo.append(val)\n",
    "\n",
    "print(abrev)\n",
    "print(completo)"
   ]
  },
  {
   "cell_type": "code",
   "execution_count": 48,
   "id": "b3ab327f",
   "metadata": {
    "scrolled": true
   },
   "outputs": [
    {
     "name": "stdout",
     "output_type": "stream",
     "text": [
      "TAC\n",
      "M\n",
      "CCG\n",
      "MM\n",
      "AGC\n",
      "MMM\n",
      "TAG\n",
      "MMMM\n",
      "CAG\n",
      "MMMMM\n",
      "ATA\n",
      "MMMMMM\n",
      "\n",
      "MMMMMMM\n",
      "\n",
      "MMMMMMMM\n",
      "\n",
      "MMMMMMMMM\n",
      "\n",
      "MMMMMMMMMM\n",
      "\n",
      "MMMMMMMMMMM\n",
      "\n",
      "MMMMMMMMMMMM\n",
      "\n",
      "MMMMMMMMMMMMM\n",
      "\n",
      "MMMMMMMMMMMMMM\n",
      "\n",
      "MMMMMMMMMMMMMMM\n",
      "\n",
      "MMMMMMMMMMMMMMMM\n",
      "\n",
      "MMMMMMMMMMMMMMMMM\n",
      "\n",
      "MMMMMMMMMMMMMMMMMM\n"
     ]
    }
   ],
   "source": [
    "seq=\"TACCCGAGCTAGCAGATA\"\n",
    "amino = \"\"\n",
    "\n",
    "for i in range (len(seq)):\n",
    "    i = i*3\n",
    "    codon = seq[i:i+3]\n",
    "    print(codon)\n",
    "    amac = \"M\"  # cambiar por un codigo\n",
    "    amino +=amac  # equivale al append\n",
    "    print(amino)\n"
   ]
  },
  {
   "cell_type": "code",
   "execution_count": 49,
   "id": "10876654",
   "metadata": {},
   "outputs": [],
   "source": [
    "codon_dictionary = {\n",
    "    'TCA' : 'S',    # Serine\n",
    "    'TCC' : 'S',    # Serine\n",
    "    'TCG' : 'S',    # Serine\n",
    "    'TCT' : 'S',    # Serine\n",
    "    'TTC' : 'F',    # Phenylalanine\n",
    "    'TTT' : 'F',    # Phenylalanine\n",
    "    'TTA' : 'L',    # Leucine\n",
    "    'TTG' : 'L',    # Leucine\n",
    "    'TAC' : 'Y',    # Tyrosine\n",
    "    'TAT' : 'Y',    # Tyrosine\n",
    "    'TAA' : '_',    # Stop\n",
    "    'TAG' : '_',    # Stop\n",
    "    'TGC' : 'C',    # Cysteine\n",
    "    'TGT' : 'C',    # Cysteine\n",
    "    'TGA' : '_',    # Stop\n",
    "    'TGG' : 'W',    # Tryptophan\n",
    "    'CTA' : 'L',    # Leucine\n",
    "    'CTC' : 'L',    # Leucine\n",
    "    'CTG' : 'L',    # Leucine\n",
    "    'CTT' : 'L',    # Leucine\n",
    "    'CCA' : 'P',    # Proline\n",
    "    'CCC' : 'P',    # Proline\n",
    "    'CCG' : 'P',    # Proline\n",
    "    'CCT' : 'P',    # Proline\n",
    "    'CAC' : 'H',    # Histidine\n",
    "    'CAT' : 'H',    # Histidine\n",
    "    'CAA' : 'Q',    # Glutamine\n",
    "    'CAG' : 'Q',    # Glutamine\n",
    "    'CGA' : 'R',    # Arginine\n",
    "    'CGC' : 'R',    # Arginine\n",
    "    'CGG' : 'R',    # Arginine\n",
    "    'CGT' : 'R',    # Arginine\n",
    "    'ATA' : 'I',    # Isoleucine\n",
    "    'ATC' : 'I',    # Isoleucine\n",
    "    'ATT' : 'I',    # Isoleucine\n",
    "    'ATG' : 'M',    # Methionine\n",
    "    'ACA' : 'T',    # Threonine\n",
    "    'ACC' : 'T',    # Threonine\n",
    "    'ACG' : 'T',    # Threonine\n",
    "    'ACT' : 'T',    # Threonine\n",
    "    'AAC' : 'N',    # Asparagine\n",
    "    'AAT' : 'N',    # Asparagine\n",
    "    'AAA' : 'K',    # Lysine\n",
    "    'AAG' : 'K',    # Lysine\n",
    "    'AGC' : 'S',    # Serine\n",
    "    'AGT' : 'S',    # Serine\n",
    "    'AGA' : 'R',    # Arginine\n",
    "    'AGG' : 'R',    # Arginine\n",
    "    'GTA' : 'V',    # Valine\n",
    "    'GTC' : 'V',    # Valine\n",
    "    'GTG' : 'V',    # Valine\n",
    "    'GTT' : 'V',    # Valine\n",
    "    'GCA' : 'A',    # Alanine\n",
    "    'GCC' : 'A',    # Alanine\n",
    "    'GCG' : 'A',    # Alanine\n",
    "    'GCT' : 'A',    # Alanine\n",
    "    'GAC' : 'D',    # Aspartic Acid\n",
    "    'GAT' : 'D',    # Aspartic Acid\n",
    "    'GAA' : 'E',    # Glutamic Acid\n",
    "    'GAG' : 'E',    # Glutamic Acid\n",
    "    'GGA' : 'G',    # Glycine\n",
    "    'GGC' : 'G',    # Glycine\n",
    "    'GGG' : 'G',    # Glycine\n",
    "    'GGT' : 'G',    # Glycine\n",
    "    }"
   ]
  },
  {
   "cell_type": "code",
   "execution_count": 64,
   "id": "0cc3efd5",
   "metadata": {
    "scrolled": false
   },
   "outputs": [
    {
     "data": {
      "text/plain": [
       "dict_items([('TCA', 'S'), ('TCC', 'S'), ('TCG', 'S'), ('TCT', 'S'), ('TTC', 'F'), ('TTT', 'F'), ('TTA', 'L'), ('TTG', 'L'), ('TAC', 'Y'), ('TAT', 'Y'), ('TAA', '_'), ('TAG', '_'), ('TGC', 'C'), ('TGT', 'C'), ('TGA', '_'), ('TGG', 'W'), ('CTA', 'L'), ('CTC', 'L'), ('CTG', 'L'), ('CTT', 'L'), ('CCA', 'P'), ('CCC', 'P'), ('CCG', 'P'), ('CCT', 'P'), ('CAC', 'H'), ('CAT', 'H'), ('CAA', 'Q'), ('CAG', 'Q'), ('CGA', 'R'), ('CGC', 'R'), ('CGG', 'R'), ('CGT', 'R'), ('ATA', 'I'), ('ATC', 'I'), ('ATT', 'I'), ('ATG', 'M'), ('ACA', 'T'), ('ACC', 'T'), ('ACG', 'T'), ('ACT', 'T'), ('AAC', 'N'), ('AAT', 'N'), ('AAA', 'K'), ('AAG', 'K'), ('AGC', 'S'), ('AGT', 'S'), ('AGA', 'R'), ('AGG', 'R'), ('GTA', 'V'), ('GTC', 'V'), ('GTG', 'V'), ('GTT', 'V'), ('GCA', 'A'), ('GCC', 'A'), ('GCG', 'A'), ('GCT', 'A'), ('GAC', 'D'), ('GAT', 'D'), ('GAA', 'E'), ('GAG', 'E'), ('GGA', 'G'), ('GGC', 'G'), ('GGG', 'G'), ('GGT', 'G')])"
      ]
     },
     "execution_count": 64,
     "metadata": {},
     "output_type": "execute_result"
    }
   ],
   "source": [
    "codon_dictionary.items()\n"
   ]
  },
  {
   "cell_type": "code",
   "execution_count": 65,
   "id": "8f2e936b",
   "metadata": {
    "scrolled": false
   },
   "outputs": [
    {
     "name": "stdout",
     "output_type": "stream",
     "text": [
      "ATG\n",
      "TAC\n",
      "CCG\n",
      "AGC\n",
      "TAG\n",
      "CAG\n",
      "ATA\n",
      "Se ha analizado todos los codones\n",
      "ATGTACCCGAGCTAGCAGATA\n"
     ]
    }
   ],
   "source": [
    "seq=\"ATGTACCCGAGCTAGCAGATA\"\n",
    "amino = \"\"\n",
    "\n",
    "for i in range (len(seq)):\n",
    "    i = i*3\n",
    "    codon = seq[i:i+3]\n",
    "    if len (codon) == 0:\n",
    "        print(\"Se ha analizado todos los codones\")\n",
    "        break\n",
    "    print(codon)\n",
    "    amac = codon.replace(\"codon\", \"codon_dictionary.items()\")\n",
    "    amino +=amac\n",
    "print(amino)"
   ]
  },
  {
   "cell_type": "code",
   "execution_count": null,
   "id": "1499e382",
   "metadata": {},
   "outputs": [],
   "source": [
    "lista= [-1, 0, ]\n",
    "\n",
    "# el braek se puede usar para parar una ejecucion"
   ]
  },
  {
   "cell_type": "code",
   "execution_count": 66,
   "id": "b641a605",
   "metadata": {},
   "outputs": [
    {
     "name": "stdout",
     "output_type": "stream",
     "text": [
      "0 Hola 4 HOLA\n",
      "1 que 3 QUE\n",
      "2 tal 3 TAL\n",
      "3 GBI6 4 GBI6\n",
      "['Hola', 'a', 'todos', 'que', 'tal', 'GBI6']\n"
     ]
    }
   ],
   "source": [
    "lista = [\"Hola\", \"que\", \"tal\", \"GBI6\"]\n",
    "\n",
    "for idx, word in enumerate(lista[:]):\n",
    "    if idx == 1:\n",
    "        lista.insert(1, \"a\")\n",
    "    if idx == 2:\n",
    "        lista.insert(2, \"todos\")\n",
    "    print(idx, word, len(word), word.upper())\n",
    "\n",
    "print(lista)"
   ]
  },
  {
   "cell_type": "code",
   "execution_count": null,
   "id": "5ed18377",
   "metadata": {},
   "outputs": [],
   "source": []
  }
 ],
 "metadata": {
  "kernelspec": {
   "display_name": "Python 3 (ipykernel)",
   "language": "python",
   "name": "python3"
  },
  "language_info": {
   "codemirror_mode": {
    "name": "ipython",
    "version": 3
   },
   "file_extension": ".py",
   "mimetype": "text/x-python",
   "name": "python",
   "nbconvert_exporter": "python",
   "pygments_lexer": "ipython3",
   "version": "3.9.12"
  }
 },
 "nbformat": 4,
 "nbformat_minor": 5
}
