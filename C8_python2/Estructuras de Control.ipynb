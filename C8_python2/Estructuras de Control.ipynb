{
 "cells": [
  {
   "cell_type": "code",
   "execution_count": null,
   "id": "e62920a2",
   "metadata": {},
   "outputs": [],
   "source": []
  },
  {
   "cell_type": "code",
   "execution_count": 1,
   "id": "c17f3d37",
   "metadata": {},
   "outputs": [
    {
     "name": "stdout",
     "output_type": "stream",
     "text": [
      "1\n",
      "3\n",
      "5\n",
      "7\n",
      "9\n",
      "11\n",
      "13\n",
      "15\n",
      "17\n",
      "19\n",
      "21\n",
      "23\n",
      "25\n",
      "27\n",
      "29\n",
      "31\n",
      "33\n",
      "35\n",
      "37\n",
      "39\n",
      "41\n",
      "43\n",
      "45\n",
      "47\n",
      "49\n",
      "51\n",
      "53\n",
      "55\n",
      "57\n",
      "59\n",
      "61\n",
      "63\n",
      "65\n",
      "67\n",
      "69\n",
      "71\n",
      "73\n",
      "75\n",
      "77\n",
      "79\n",
      "81\n",
      "83\n",
      "85\n",
      "87\n",
      "89\n",
      "91\n",
      "93\n",
      "95\n",
      "97\n",
      "99\n"
     ]
    }
   ],
   "source": [
    "a= range (1,100,2)\n",
    "for i in a:\n",
    "        print(i)"
   ]
  },
  {
   "cell_type": "markdown",
   "id": "35469653",
   "metadata": {},
   "source": [
    "Condicional if\n",
    "    if condicional "
   ]
  },
  {
   "cell_type": "code",
   "execution_count": 9,
   "id": "c0332564",
   "metadata": {},
   "outputs": [
    {
     "name": "stdout",
     "output_type": "stream",
     "text": [
      "Si es divisible por 5\n"
     ]
    }
   ],
   "source": [
    "# sin usar else\n",
    "x= 10\n",
    "y= 5\n",
    "if (x % y) !=0: # si es igual a cero , % te evalua el residuo de la division\n",
    "    #x/y =2, x%y =0\n",
    "    print(\"No es divisible por 5\")\n",
    "else:\n",
    "    print(\"Si es divisible por 5\")"
   ]
  },
  {
   "cell_type": "code",
   "execution_count": 3,
   "id": "c104a83a",
   "metadata": {},
   "outputs": [
    {
     "name": "stdout",
     "output_type": "stream",
     "text": [
      "Hola\n"
     ]
    }
   ],
   "source": [
    "a=\"Hola\" # asignado el valor \"Hola\" a la variable x\n",
    "print(a)"
   ]
  },
  {
   "cell_type": "code",
   "execution_count": 4,
   "id": "85d47d6f",
   "metadata": {},
   "outputs": [
    {
     "data": {
      "text/plain": [
       "True"
      ]
     },
     "execution_count": 4,
     "metadata": {},
     "output_type": "execute_result"
    }
   ],
   "source": [
    "a==\"Hola\""
   ]
  },
  {
   "cell_type": "code",
   "execution_count": 15,
   "id": "2c22b503",
   "metadata": {},
   "outputs": [
    {
     "name": "stdout",
     "output_type": "stream",
     "text": [
      "Divisible por 3, porque el residuo es 0\n"
     ]
    }
   ],
   "source": [
    "# Con else\n",
    "x=27\n",
    "y= x % 3\n",
    "if x % 3 ==0:\n",
    "    print(\"Divisible por 3, porque el residuo es\", y)\n",
    "else:\n",
    "    print(\"No es divisible por 3, porque el residuo es\", y)"
   ]
  },
  {
   "cell_type": "code",
   "execution_count": 16,
   "id": "63661ad8",
   "metadata": {},
   "outputs": [
    {
     "name": "stdout",
     "output_type": "stream",
     "text": [
      "Dividendo:5\n",
      "Divisor: 25\n",
      "5 no es divisible por 25 , el módulo es:  5\n"
     ]
    }
   ],
   "source": [
    "# variando al gusto del usuario el dividendo y el divisor\n",
    "# x: dividendo, y:divisor\n",
    "x = input (\"Dividendo:\")\n",
    "y = input(\"Divisor: \")\n",
    "if int(x) % int(y) == 0:\n",
    "    print(x,\"es divisible por\",y,\"el modulo es:\", int(x) % int(y))\n",
    "else:\n",
    "    print(x, \"no es divisible por\", y, \", el módulo es: \",int(x) % int(y))"
   ]
  },
  {
   "cell_type": "code",
   "execution_count": 18,
   "id": "9e47cf1e",
   "metadata": {},
   "outputs": [
    {
     "name": "stdout",
     "output_type": "stream",
     "text": [
      "Dividendo: 10\n",
      "Divisor: 5\n",
      "10 es divisible por  5 , el módulo es:  0\n"
     ]
    }
   ],
   "source": [
    "# variando al gusto del usuario el dividendo y el divisor\n",
    "# x: dividendo, y: divisor\n",
    "x = int(input(\"Dividendo: \"))\n",
    "y = int(input(\"Divisor: \"))\n",
    "z = x % y\n",
    "if x % y == 0:\n",
    "    print(x, \"es divisible por \", y, \", el módulo es: \", z)\n",
    "else: \n",
    "    print(x, \"no es divisible por \", y, \", el módulo es: \", z)"
   ]
  },
  {
   "cell_type": "code",
   "execution_count": 24,
   "id": "78e934d1",
   "metadata": {
    "scrolled": true
   },
   "outputs": [
    {
     "ename": "SyntaxError",
     "evalue": "invalid syntax (3659619506.py, line 4)",
     "output_type": "error",
     "traceback": [
      "\u001b[1;36m  Input \u001b[1;32mIn [24]\u001b[1;36m\u001b[0m\n\u001b[1;33m    if \"A\" in dna\u001b[0m\n\u001b[1;37m                  ^\u001b[0m\n\u001b[1;31mSyntaxError\u001b[0m\u001b[1;31m:\u001b[0m invalid syntax\n"
     ]
    }
   ],
   "source": [
    "dna = input(\"Ingresa la secuencia de DNA: \" ).upper()\n",
    " #dna_size = len(dna)\n",
    "print(dna_size)\n",
    "if \"A\" in dna \n",
    "\n",
    "print(\"La secuencia no correcponde a dna, ingrese unicamente nucleotidos\")\n",
    "if dna_size > 30: \n",
    "    print(\"Secuencia muy larga para un primer\")\n",
    "elif dna_size > 10:\n",
    "    if dna_size % 2 == 0:\n",
    "        print(\"Secuencia adecuada para un primer\")\n",
    "        print(\"Secuencia de longitud par\")\n",
    "    else: \n",
    "        print(\"Secuencia adecuada para un primer\")\n",
    "        print(\"Secuencia de longitud impar\")\n",
    "else:\n",
    "    print(\"Secuencia muy corta para un primer\")"
   ]
  },
  {
   "cell_type": "code",
   "execution_count": 22,
   "id": "f5f8eb29",
   "metadata": {
    "scrolled": true
   },
   "outputs": [
    {
     "name": "stdout",
     "output_type": "stream",
     "text": [
      "Ingresa la secuencia de DNA: atggctaagttgatc\n",
      "ATGGCTAAGTTGATC\n",
      "15\n",
      "Secuencia adecuada para un primer\n",
      "Secuencia de longitud impar\n"
     ]
    }
   ],
   "source": [
    "dna = input(\"Ingresa la secuencia de DNA: \" ).upper()\n",
    "print(dna)\n",
    "\n",
    "dna_size = len(dna)\n",
    "print(dna_size)\n",
    "if dna_size > 30: \n",
    "    print(\"Secuencia muy larga para un primer\")\n",
    "elif dna_size > 10:\n",
    "    if dna_size % 2 == 0:\n",
    "        print(\"Secuencia adecuada para un primer\")\n",
    "        print(\"Secuencia de longitud par\")\n",
    "    else: \n",
    "        print(\"Secuencia adecuada para un primer\")\n",
    "        print(\"Secuencia de longitud impar\")\n",
    "else:\n",
    "    print(\"Secuencia muy corta para un primer\")"
   ]
  },
  {
   "cell_type": "code",
   "execution_count": null,
   "id": "c702c1e3",
   "metadata": {},
   "outputs": [],
   "source": []
  }
 ],
 "metadata": {
  "kernelspec": {
   "display_name": "Python 3 (ipykernel)",
   "language": "python",
   "name": "python3"
  },
  "language_info": {
   "codemirror_mode": {
    "name": "ipython",
    "version": 3
   },
   "file_extension": ".py",
   "mimetype": "text/x-python",
   "name": "python",
   "nbconvert_exporter": "python",
   "pygments_lexer": "ipython3",
   "version": "3.9.12"
  }
 },
 "nbformat": 4,
 "nbformat_minor": 5
}
